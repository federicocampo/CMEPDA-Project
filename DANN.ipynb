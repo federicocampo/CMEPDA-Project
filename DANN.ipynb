{
  "nbformat": 4,
  "nbformat_minor": 0,
  "metadata": {
    "colab": {
      "name": "DANN.ipynb",
      "provenance": [],
      "collapsed_sections": [],
      "authorship_tag": "ABX9TyPNVlNSjcb3ui7ClzKLijFa",
      "include_colab_link": true
    },
    "kernelspec": {
      "name": "python3",
      "display_name": "Python 3"
    },
    "language_info": {
      "name": "python"
    }
  },
  "cells": [
    {
      "cell_type": "markdown",
      "metadata": {
        "id": "view-in-github",
        "colab_type": "text"
      },
      "source": [
        "<a href=\"https://colab.research.google.com/github/federicocampo/CMEPDA-Project/blob/Prime_modifiche/DANN.ipynb\" target=\"_parent\"><img src=\"https://colab.research.google.com/assets/colab-badge.svg\" alt=\"Open In Colab\"/></a>"
      ]
    },
    {
      "cell_type": "code",
      "source": [
        "from google.colab import drive\n",
        "drive.mount('/content/gdrive')"
      ],
      "metadata": {
        "colab": {
          "base_uri": "https://localhost:8080/"
        },
        "id": "fNIDA2iKWrD2",
        "outputId": "a4bea162-1280-4561-a81b-8faf71557a4b"
      },
      "execution_count": 29,
      "outputs": [
        {
          "output_type": "stream",
          "name": "stdout",
          "text": [
            "Drive already mounted at /content/gdrive; to attempt to forcibly remount, call drive.mount(\"/content/gdrive\", force_remount=True).\n"
          ]
        }
      ]
    },
    {
      "cell_type": "code",
      "source": [
        "import numpy as np\n",
        "import tensorflow as tf\n",
        "import matplotlib.pyplot as plt\n",
        "import pandas as pd\n",
        "\n",
        "from tensorflow.keras import Sequential, Model\n",
        "from tensorflow.keras.layers import Dense, Flatten, BatchNormalization, Dropout, Input, LayerNormalization\n",
        "from tensorflow.keras.layers import Layer\n",
        "from tensorflow.keras.losses import BinaryCrossentropy, CategoricalCrossentropy\n",
        "from tensorflow.keras.optimizers import Adam, SGD\n",
        "from tensorflow.keras.metrics import BinaryAccuracy, AUC\n",
        "\n",
        "from sklearn.metrics import roc_curve, auc\n",
        "from sklearn.model_selection import train_test_split, cross_val_score, StratifiedKFold\n"
      ],
      "metadata": {
        "id": "Et_cKFVaJ5nR"
      },
      "execution_count": 30,
      "outputs": []
    },
    {
      "cell_type": "markdown",
      "source": [
        "# DATASET"
      ],
      "metadata": {
        "id": "8bA5ho4rgvtX"
      }
    },
    {
      "cell_type": "code",
      "source": [
        "def siteslist(readfile , site_name_column = 'SITE'):\n",
        "\t#Create a numpy array with shape = (N_site, 2) with \n",
        "\t#the name of the site in the first column and the numeric label in the second\n",
        "\t\n",
        "\tmydataframe = readfile[site_name_column]\n",
        "\tdummydf = pd.get_dummies(mydataframe)\n",
        "\t\n",
        "\tsites_list = [] \n",
        "\tfor site in dummydf.columns: #Iteration on each site's name\n",
        "\t\tsites_list.append(site)\n",
        "\t\t\t\n",
        "\tsites_list = np.array(sites_list)\n",
        "\treturn sites_list"
      ],
      "metadata": {
        "id": "tFMCh9IeW46G"
      },
      "execution_count": 31,
      "outputs": []
    },
    {
      "cell_type": "markdown",
      "source": [
        "\n",
        "\n",
        "> Harmonized\n",
        "\n"
      ],
      "metadata": {
        "id": "vi2TC_-lMO3I"
      }
    },
    {
      "cell_type": "code",
      "source": [
        "df = pd.read_csv('gdrive/MyDrive/NEW_features_Non_Normalizzate_A1+2_harmonized_male.csv')\n",
        "\n",
        "\n",
        "sites_list = siteslist(df)\n",
        "#sites_list = ['NYU_A', 'STANFORD', 'U_MIA_A', 'KKI', 'OHSU', 'KKI_A', 'OHSU_A', 'GU_A', 'SU_B', 'UCLA_3']\n",
        "\n",
        "\n",
        "df = df.loc[df['SITE'].isin(sites_list)]\n",
        "df = df.reset_index(drop = True)\n",
        "\n",
        "\n",
        "#Create a column with site names converted into numbers\n",
        "for i, name in enumerate(sites_list):\n",
        "  df.loc[df.SITE == name , 'SITE_LABEL'] =  int(i)\n",
        "\n",
        "#Change columns order: put the last as first\n",
        "cols = df.columns.tolist()\n",
        "cols = cols[-1:] + cols[:-1]\n",
        "df = df[cols]\n",
        "\n",
        "#Create a df with only features' columns\n",
        "df_features = df.copy()\n",
        "df_features = df.iloc[:, 6:]\n",
        "df_features =(df_features-df_features.min())/(df_features.max()-df_features.min())\n",
        "\n",
        "#Extracting dataset X, y\n",
        "X = np.array(df_features.values)\n",
        "\n",
        "y = df.DX_GROUP.to_numpy(dtype = 'int64')\n",
        "y[y == -1] = int(0)\n",
        "\n",
        "\n",
        "y_site = df.SITE_LABEL.to_numpy()\n",
        "from sklearn.preprocessing import OneHotEncoder\n",
        "y_site = y_site.reshape(-1, 1)\n",
        "enc = OneHotEncoder()\n",
        "y_site = enc.fit_transform(y_site).toarray()\n",
        "\n",
        "\n",
        "X_train, X_val, y_train, y_val, ysite_train, ysite_val  = train_test_split(X, y,y_site, random_state = 55, shuffle = True, test_size = 0.2)"
      ],
      "metadata": {
        "id": "85e0F73DW6ns"
      },
      "execution_count": 32,
      "outputs": []
    },
    {
      "cell_type": "markdown",
      "source": [
        "> Not harmonized"
      ],
      "metadata": {
        "id": "J5800rx0MXbt"
      }
    },
    {
      "cell_type": "code",
      "source": [
        "df = pd.read_csv('gdrive/MyDrive/NEW_features_Non_Normalizzate_A1+2_male.csv')\n",
        "\n",
        "\n",
        "sites_list = siteslist(df)\n",
        "\n",
        "#sites_list = ['NYU_A', 'STANFORD', 'U_MIA_A', 'KKI', 'OHSU', 'KKI_A', 'OHSU_A', 'GU_A', 'SU_B', 'UCLA_3']\n",
        "#df = df.loc[df['SITE'].isin(sites_list)]\n",
        "#df = df.reset_index(drop = True)\n",
        "\n",
        "\n",
        "#Create a column with site names converted into numbers\n",
        "for i, name in enumerate(sites_list):\n",
        "  df.loc[df.SITE == name , 'SITE_LABEL'] =  int(i)\n",
        "\n",
        "#Change columns order: put the last as first\n",
        "cols = df.columns.tolist()\n",
        "cols = cols[-1:] + cols[:-1]\n",
        "df = df[cols]\n",
        "\n",
        "#Create a df with only features' columns\n",
        "df_features = df.copy()\n",
        "df_features = df.iloc[:, 8:]\n",
        "df_features =(df_features-df_features.min())/(df_features.max()-df_features.min())\n",
        "\n",
        "#Extracting dataset X, y\n",
        "X = np.array(df_features.values)\n",
        "\n",
        "y = df.DX_GROUP.to_numpy(dtype = 'int64')\n",
        "y[y == -1] = int(0)\n",
        "\n",
        "\n",
        "y_site = df.SITE_LABEL.to_numpy()\n",
        "from sklearn.preprocessing import OneHotEncoder\n",
        "y_site = y_site.reshape(-1, 1)\n",
        "enc = OneHotEncoder()\n",
        "y_site = enc.fit_transform(y_site).toarray()\n",
        "\n",
        "\n",
        "X_train, X_val, y_train, y_val, ysite_train, ysite_val  = train_test_split(X, y,y_site, random_state = 55, shuffle = True, test_size = 0.2)\n"
      ],
      "metadata": {
        "id": "JMivhGGOMb6f"
      },
      "execution_count": 4,
      "outputs": []
    },
    {
      "cell_type": "markdown",
      "source": [
        "# DANN"
      ],
      "metadata": {
        "id": "AnyFgR2VXNEP"
      }
    },
    {
      "cell_type": "code",
      "source": [
        "batch_size = 64\n",
        "\n",
        "#train_dataset = tf.data.Dataset.from_tensor_slices((X_train, y_train))\n",
        "train_dataset = tf.data.Dataset.from_tensor_slices((X_train, (y_train, ysite_train)))\n",
        "train_dataset = train_dataset.shuffle(buffer_size=1024).shuffle(1000).batch(batch_size)\n",
        "\n",
        "val_dataset = tf.data.Dataset.from_tensor_slices((X_val, y_val))\n",
        "val_dataset = val_dataset.shuffle(buffer_size=1024).shuffle(1000).batch(batch_size)\n"
      ],
      "metadata": {
        "id": "xkLnA-fba7sa"
      },
      "execution_count": 5,
      "outputs": []
    },
    {
      "cell_type": "code",
      "source": [
        "@tf.custom_gradient\n",
        "def gradient_reverse_func(x, lamda=0.5):\n",
        "    y = tf.identity(x)\n",
        "    \n",
        "    def grad(dy):\n",
        "        return lamda * -dy, None\n",
        "    \n",
        "    return y, grad\n",
        "\n",
        "class GradientReversalLayer(Layer):\n",
        "    def __init__(self):\n",
        "        super().__init__()\n",
        "    \n",
        "    def call(self, x, lamda=0.5):\n",
        "        return gradient_reverse_func(x, lamda)\n"
      ],
      "metadata": {
        "id": "0SleJnNp5TtU"
      },
      "execution_count": 33,
      "outputs": []
    },
    {
      "cell_type": "code",
      "execution_count": 34,
      "metadata": {
        "id": "z11qsTNmJ0VN"
      },
      "outputs": [],
      "source": [
        "final_sites_nodes = len(sites_list)\n",
        "\n",
        "# Adversarial Neural Network\n",
        "class DANN(Model):\n",
        "\n",
        "  def __init__(self):\n",
        "      super().__init__()\n",
        "\n",
        "      self.features_layer0 = Dense(64, activation = 'relu')\n",
        "      self.features_layer1 = Dense(28, activation='relu')\n",
        "\n",
        "\n",
        "      self.batchnorm0 = BatchNormalization()\n",
        "      self.batchnorm1 = BatchNormalization()\n",
        "      self.batchnorm2 = BatchNormalization()\n",
        "\n",
        "      #Label pred\n",
        "      #self.label_layer0 = Dense(64, activation = 'relu')\n",
        "      self.label_layer1 = Dense(1, activation = 'sigmoid')\n",
        "\n",
        "      #Site pred\n",
        "      self.site_layer0 = GradientReversalLayer()\n",
        "      self.site_layer1 = Dense(64, activation = 'relu')\n",
        "      self.site_layer2 = Dense(final_sites_nodes, activation = 'sigmoid')\n",
        "\n",
        "\n",
        "\n",
        "  def call(self, inputs, training = True,  only_labels = False):\n",
        "    x = inputs\n",
        "    x = self.features_layer0(x)\n",
        "    x = self.batchnorm0(x)\n",
        "    x = self.features_layer1(x, training = training)\n",
        "    x = self.batchnorm1(x)\n",
        "    features = x\n",
        "    #Label predictor\n",
        "    lab = self.label_layer1(x)\n",
        "  \n",
        "    if only_labels:\n",
        "      return lab\n",
        "    else: \n",
        "      site_x = self.site_layer0(x)\n",
        "      site_x = self.site_layer1(site_x)\n",
        "      site = self.site_layer2(site_x)\n",
        "      return lab, site\n",
        "    \n",
        "  def compile(self, lab_optimizer, site_optimizer, loss_fn):\n",
        "    self.lab_optimizer = lab_optimizer\n",
        "    self.site_optimizer = site_optimizer\n",
        "    self.loss_fn = loss_fn\n",
        "  \n",
        "\n",
        "  def train(self, train_dataset, only_labels = True, only_train = False):\n",
        "    epochs = 20\n",
        "    for epoch in range(epochs):\n",
        "        #print(\"\\nStart of epoch %d\" % (epoch,))\n",
        "        accuracy_array = []\n",
        "        loss_array = []\n",
        "        # Iterate over the batches of the dataset.\n",
        "        #for step, (x_batch_train, y_batch_train) in enumerate(train_dataset):\n",
        "        for step, (x_batch_train, (y_batch_train, ysite_batch_train)) in enumerate(train_dataset):\n",
        "\n",
        "            with tf.GradientTape() as tape:\n",
        "  \n",
        "                if only_labels:\n",
        "                  logits = model(x_batch_train, training=True, only_labels = only_labels)  # Logits for this minibatch\n",
        "                  loss_value = custom_loss(y_batch_train, logits)\n",
        "                  \n",
        "                else:\n",
        "                  logits, logits2 = model(x_batch_train, training=True, only_labels = only_labels)  # Logits for this minibatch\n",
        "                  loss_value = custom_loss(y_batch_train, logits, ysite_batch_train, logits2)  \n",
        "\n",
        "            loss_array.append(loss_value)\n",
        "\n",
        "            grads = tape.gradient(loss_value, model.trainable_weights)\n",
        "\n",
        "            self.lab_optimizer.apply_gradients(zip(grads, model.trainable_weights))\n",
        "            #self.site_optimizer.apply_gradients(zip(grads, model.trainable_weights))\n",
        "            \n",
        "            #Metrics: accuracy or AUC \n",
        "            train_acc_metric.update_state(y_batch_train, logits)\n",
        "\n",
        "        train_acc = train_acc_metric.result()\n",
        "        print(f'Epoch {epoch}: Metric = {train_acc} \\t Loss = {np.mean(loss_array)}')\n",
        "        train_acc_metric.reset_states()\n",
        "\n",
        "        if only_train:\n",
        "          val_acc = self.validation(val_dataset, model)\n",
        "          print(val_acc)\n",
        "\n",
        "\n",
        "\n",
        "\n",
        "  def validation(self, val_dataset, model):\n",
        "    val_acc_array = []\n",
        "    for x_batch_val, y_batch_val in val_dataset:\n",
        "        val_logits = model(x_batch_val, training=False)\n",
        "        # Update val metrics\n",
        "        val_acc_metric.update_state(y_batch_val, val_logits)\n",
        "        val_acc = val_acc_metric.result()\n",
        "        val_acc_array.append(val_acc)\n",
        "        val_acc_metric.reset_states()\n",
        "        print(\"Validation acc: %.4f\" % (float(val_acc),))\n",
        "    mean_val_acc = np.mean(val_acc_array)\n",
        "    return mean_val_acc\n",
        "\n",
        "\n"
      ]
    },
    {
      "cell_type": "code",
      "source": [
        "def custom_loss(l_logits, labels, d_logits = None, domain = None):\n",
        "  \n",
        "  def loss_func(y_pred, y_true):\n",
        "    return BinaryCrossentropy()(y_pred, y_true)\n",
        "    \n",
        "  if d_logits is None:\n",
        "      return loss_func(l_logits, labels)\n",
        "  else:\n",
        "      return loss_func(l_logits, labels) + loss_func(d_logits, domain)\n",
        "      #return loss_func(l_logits, labels), loss_func(d_logits, domain)\n",
        "      "
      ],
      "metadata": {
        "id": "cTSG8AeC696i"
      },
      "execution_count": 40,
      "outputs": []
    },
    {
      "cell_type": "code",
      "source": [
        "model = DANN()\n",
        "model.compile(lab_optimizer = SGD(), site_optimizer = SGD(), loss_fn = custom_loss)\n",
        "#optimizer = SGD()\n",
        "\n",
        "train_acc_metric = AUC()\n",
        "val_acc_metric = BinaryAccuracy()\n",
        "\n",
        "model.train(train_dataset, only_labels = False)"
      ],
      "metadata": {
        "id": "XhNwgPSAeavC"
      },
      "execution_count": null,
      "outputs": []
    },
    {
      "cell_type": "code",
      "source": [
        "aucs = []\n",
        "fprs = []\n",
        "tprs = []\n",
        "mean_fpr = np.linspace(0, 1, 100)\n",
        "\n",
        "kfold = StratifiedKFold(n_splits = 5,  shuffle = True, random_state = 42).split(X, y)\n",
        "for k, (train, test) in enumerate(kfold):\n",
        "  X_train = np.array(X[train])\n",
        "  y_train = np.array(y[train])\n",
        "  ysite_train = np.array(y_site[train])\n",
        "\n",
        "  X_test = np.array(X[test])\n",
        "  y_test = np.array(y[test])\n",
        "\n",
        "  batch_size = 64\n",
        "\n",
        "  #train_dataset = tf.data.Dataset.from_tensor_slices((X_train, y_train))\n",
        "  train_dataset = tf.data.Dataset.from_tensor_slices((X_train, (y_train, ysite_train)))\n",
        "  train_dataset = train_dataset.shuffle(buffer_size=1024).shuffle(1000).batch(batch_size)\n",
        "\n",
        "  test_dataset = tf.data.Dataset.from_tensor_slices((X_test, y_test))\n",
        "  test_dataset = test_dataset.shuffle(buffer_size=1024).shuffle(1000).batch(batch_size)\n",
        "\n",
        "  model = DANN()\n",
        "  model.compile(lab_optimizer = SGD(), site_optimizer = SGD(), loss_fn = custom_loss)\n",
        "\n",
        "  train_acc_metric = AUC()\n",
        "  val_acc_metric = BinaryAccuracy()\n",
        "\n",
        "  model.train(only_labels = False, train_dataset = train_dataset)\n",
        "\n",
        "  try:\n",
        "    y_pred = model.predict(X_test).ravel()\n",
        "  except AttributeError:\n",
        "    y_pred = model.predict(X_test)\n",
        "    y_pred = y_pred[0].ravel()\n",
        "\n",
        "\n",
        "  fpr, tpr, thresholds = roc_curve(y_test, y_pred)\n",
        "  model_auc = auc(fpr, tpr)\n",
        "  print(f'AUC on fold {k} = {model_auc : .2f}')\n",
        "  aucs.append(model_auc)\n",
        "  fprs.append(fpr)\n",
        "\n",
        "  tprs.append(np.interp(mean_fpr, fpr, tpr))\n",
        "\n",
        "mean_tpr = np.mean(tprs, axis=0)\n",
        "mean_auc = auc(mean_fpr, mean_tpr)\n",
        "plt.plot(mean_fpr, mean_tpr, color='crimson', label=r'Mean ROC (AUC = %0.2f)' % (mean_auc),lw=2, alpha=1)\n",
        "plt.plot([0,1],[0,1],linestyle = '--',color = 'black') # Bisector line\n",
        "plt.xlabel('False Positive Rate'), plt.ylabel('True Positive Rate'), plt.title('ROC')\n",
        "plt.legend(loc=\"lower right\")\n",
        "\n",
        "plt.plot()"
      ],
      "metadata": {
        "colab": {
          "base_uri": "https://localhost:8080/",
          "height": 1000
        },
        "id": "DfBXtxQ2oQow",
        "outputId": "a6e02fb0-77dc-4631-b845-74213bbb4247"
      },
      "execution_count": 42,
      "outputs": [
        {
          "output_type": "stream",
          "name": "stdout",
          "text": [
            "Epoch 0: Metric = 0.5133101344108582 \t Loss = 1.6101927757263184\n",
            "Epoch 1: Metric = 0.5698729157447815 \t Loss = 1.5057567358016968\n",
            "Epoch 2: Metric = 0.6048631072044373 \t Loss = 1.4584096670150757\n",
            "Epoch 3: Metric = 0.6189361810684204 \t Loss = 1.4247357845306396\n",
            "Epoch 4: Metric = 0.629096508026123 \t Loss = 1.406261682510376\n",
            "Epoch 5: Metric = 0.6551343202590942 \t Loss = 1.3749656677246094\n",
            "Epoch 6: Metric = 0.6628903150558472 \t Loss = 1.3574893474578857\n",
            "Epoch 7: Metric = 0.6888772249221802 \t Loss = 1.3320521116256714\n",
            "Epoch 8: Metric = 0.702174723148346 \t Loss = 1.3126773834228516\n",
            "Epoch 9: Metric = 0.7179053425788879 \t Loss = 1.293608546257019\n",
            "Epoch 10: Metric = 0.7335411310195923 \t Loss = 1.2699648141860962\n",
            "Epoch 11: Metric = 0.7361835837364197 \t Loss = 1.258834719657898\n",
            "Epoch 12: Metric = 0.749655544757843 \t Loss = 1.2412294149398804\n",
            "Epoch 13: Metric = 0.763641893863678 \t Loss = 1.2220560312271118\n",
            "Epoch 14: Metric = 0.7719274163246155 \t Loss = 1.2081629037857056\n",
            "Epoch 15: Metric = 0.7787390947341919 \t Loss = 1.1962471008300781\n",
            "Epoch 16: Metric = 0.7907766103744507 \t Loss = 1.1776031255722046\n",
            "Epoch 17: Metric = 0.7902425527572632 \t Loss = 1.1709760427474976\n",
            "Epoch 18: Metric = 0.8049098253250122 \t Loss = 1.151436686515808\n",
            "Epoch 19: Metric = 0.8112186193466187 \t Loss = 1.1377443075180054\n",
            "AUC on fold 0 =  0.62\n",
            "Epoch 0: Metric = 0.48850691318511963 \t Loss = 1.6085693836212158\n",
            "Epoch 1: Metric = 0.5324784517288208 \t Loss = 1.5077282190322876\n",
            "Epoch 2: Metric = 0.5682188272476196 \t Loss = 1.4529005289077759\n",
            "Epoch 3: Metric = 0.5847978591918945 \t Loss = 1.4293696880340576\n",
            "Epoch 4: Metric = 0.5940531492233276 \t Loss = 1.40362548828125\n",
            "Epoch 5: Metric = 0.6286953687667847 \t Loss = 1.367549180984497\n",
            "Epoch 6: Metric = 0.6358873844146729 \t Loss = 1.3489859104156494\n",
            "Epoch 7: Metric = 0.639126181602478 \t Loss = 1.3382219076156616\n",
            "Epoch 8: Metric = 0.6606202125549316 \t Loss = 1.3109157085418701\n",
            "Epoch 9: Metric = 0.6763103604316711 \t Loss = 1.294554352760315\n",
            "Epoch 10: Metric = 0.685225784778595 \t Loss = 1.2808568477630615\n",
            "Epoch 11: Metric = 0.6923426389694214 \t Loss = 1.2647130489349365\n",
            "Epoch 12: Metric = 0.7002420425415039 \t Loss = 1.251072883605957\n",
            "Epoch 13: Metric = 0.7067531943321228 \t Loss = 1.242830753326416\n",
            "Epoch 14: Metric = 0.7170199155807495 \t Loss = 1.2272472381591797\n",
            "Epoch 15: Metric = 0.7318824529647827 \t Loss = 1.2056082487106323\n",
            "Epoch 16: Metric = 0.7384965419769287 \t Loss = 1.1942169666290283\n",
            "Epoch 17: Metric = 0.7434887886047363 \t Loss = 1.1853145360946655\n",
            "Epoch 18: Metric = 0.7511570453643799 \t Loss = 1.1709346771240234\n",
            "Epoch 19: Metric = 0.7585409283638 \t Loss = 1.1608434915542603\n",
            "AUC on fold 1 =  0.61\n",
            "Epoch 0: Metric = 0.519716203212738 \t Loss = 1.5643174648284912\n",
            "Epoch 1: Metric = 0.5676038861274719 \t Loss = 1.4825549125671387\n",
            "Epoch 2: Metric = 0.5898815393447876 \t Loss = 1.4475260972976685\n",
            "Epoch 3: Metric = 0.6248301267623901 \t Loss = 1.4048435688018799\n",
            "Epoch 4: Metric = 0.6353684067726135 \t Loss = 1.385844349861145\n",
            "Epoch 5: Metric = 0.6553874015808105 \t Loss = 1.3615624904632568\n",
            "Epoch 6: Metric = 0.6735038161277771 \t Loss = 1.3383229970932007\n",
            "Epoch 7: Metric = 0.6694396734237671 \t Loss = 1.3373823165893555\n",
            "Epoch 8: Metric = 0.6852257251739502 \t Loss = 1.3161087036132812\n",
            "Epoch 9: Metric = 0.6911115646362305 \t Loss = 1.3039672374725342\n",
            "Epoch 10: Metric = 0.7081310153007507 \t Loss = 1.2837398052215576\n",
            "Epoch 11: Metric = 0.7115455865859985 \t Loss = 1.2714769840240479\n",
            "Epoch 12: Metric = 0.723672091960907 \t Loss = 1.2534109354019165\n",
            "Epoch 13: Metric = 0.741348147392273 \t Loss = 1.235843300819397\n",
            "Epoch 14: Metric = 0.7360124588012695 \t Loss = 1.2335896492004395\n",
            "Epoch 15: Metric = 0.7502936124801636 \t Loss = 1.2148317098617554\n",
            "Epoch 16: Metric = 0.7565875053405762 \t Loss = 1.2061936855316162\n",
            "Epoch 17: Metric = 0.7670113444328308 \t Loss = 1.1902170181274414\n",
            "Epoch 18: Metric = 0.7754771709442139 \t Loss = 1.173748254776001\n",
            "Epoch 19: Metric = 0.7807191610336304 \t Loss = 1.1632604598999023\n",
            "AUC on fold 2 =  0.64\n",
            "Epoch 0: Metric = 0.5319681167602539 \t Loss = 1.5702825784683228\n",
            "Epoch 1: Metric = 0.578976571559906 \t Loss = 1.4903960227966309\n",
            "Epoch 2: Metric = 0.6190075278282166 \t Loss = 1.450025200843811\n",
            "Epoch 3: Metric = 0.6246582269668579 \t Loss = 1.4215912818908691\n",
            "Epoch 4: Metric = 0.6499492526054382 \t Loss = 1.3920953273773193\n",
            "Epoch 5: Metric = 0.6736580729484558 \t Loss = 1.3640953302383423\n",
            "Epoch 6: Metric = 0.663543701171875 \t Loss = 1.3557721376419067\n",
            "Epoch 7: Metric = 0.6890613436698914 \t Loss = 1.3302876949310303\n",
            "Epoch 8: Metric = 0.7113600969314575 \t Loss = 1.3054401874542236\n",
            "Epoch 9: Metric = 0.7107058763504028 \t Loss = 1.2947477102279663\n",
            "Epoch 10: Metric = 0.7185028791427612 \t Loss = 1.2849714756011963\n",
            "Epoch 11: Metric = 0.7351382374763489 \t Loss = 1.257737159729004\n",
            "Epoch 12: Metric = 0.7372891902923584 \t Loss = 1.2488559484481812\n",
            "Epoch 13: Metric = 0.7465505003929138 \t Loss = 1.2365468740463257\n",
            "Epoch 14: Metric = 0.7540863156318665 \t Loss = 1.2187341451644897\n",
            "Epoch 15: Metric = 0.7619398832321167 \t Loss = 1.2076970338821411\n",
            "Epoch 16: Metric = 0.7580553293228149 \t Loss = 1.2010431289672852\n",
            "Epoch 17: Metric = 0.767219603061676 \t Loss = 1.1871135234832764\n",
            "Epoch 18: Metric = 0.775417685508728 \t Loss = 1.1727088689804077\n",
            "Epoch 19: Metric = 0.7833220958709717 \t Loss = 1.1591501235961914\n",
            "AUC on fold 3 =  0.59\n",
            "Epoch 0: Metric = 0.4824388325214386 \t Loss = 1.5367106199264526\n",
            "Epoch 1: Metric = 0.5471899509429932 \t Loss = 1.4586613178253174\n",
            "Epoch 2: Metric = 0.5728774666786194 \t Loss = 1.4263383150100708\n",
            "Epoch 3: Metric = 0.6018196940422058 \t Loss = 1.3910099267959595\n",
            "Epoch 4: Metric = 0.6114358901977539 \t Loss = 1.3742154836654663\n",
            "Epoch 5: Metric = 0.63714998960495 \t Loss = 1.3512338399887085\n",
            "Epoch 6: Metric = 0.6492407321929932 \t Loss = 1.3335702419281006\n",
            "Epoch 7: Metric = 0.673787534236908 \t Loss = 1.3129671812057495\n",
            "Epoch 8: Metric = 0.6827472448348999 \t Loss = 1.2991578578948975\n",
            "Epoch 9: Metric = 0.6946808099746704 \t Loss = 1.2807648181915283\n",
            "Epoch 10: Metric = 0.7042183876037598 \t Loss = 1.2669683694839478\n",
            "Epoch 11: Metric = 0.7150632739067078 \t Loss = 1.253515601158142\n",
            "Epoch 12: Metric = 0.7195581197738647 \t Loss = 1.2431520223617554\n",
            "Epoch 13: Metric = 0.735840916633606 \t Loss = 1.2262818813323975\n",
            "Epoch 14: Metric = 0.7415667772293091 \t Loss = 1.215701699256897\n",
            "Epoch 15: Metric = 0.7562106847763062 \t Loss = 1.2004194259643555\n",
            "Epoch 16: Metric = 0.7515643835067749 \t Loss = 1.1915217638015747\n",
            "Epoch 17: Metric = 0.7547601461410522 \t Loss = 1.1827731132507324\n",
            "Epoch 18: Metric = 0.762959361076355 \t Loss = 1.1754766702651978\n",
            "Epoch 19: Metric = 0.7777650356292725 \t Loss = 1.1573625802993774\n",
            "AUC on fold 4 =  0.56\n"
          ]
        },
        {
          "output_type": "execute_result",
          "data": {
            "text/plain": [
              "[]"
            ]
          },
          "metadata": {},
          "execution_count": 42
        },
        {
          "output_type": "display_data",
          "data": {
            "image/png": "[encoded data removed]",
            "text/plain": [
              "<Figure size 432x288 with 1 Axes>"
            ]
          },
          "metadata": {
            "needs_background": "light"
          }
        }
      ]
    },
    {
      "cell_type": "code",
      "source": [
        ""
      ],
      "metadata": {
        "id": "Q3j7HJb5Ltlh"
      },
      "execution_count": null,
      "outputs": []
    }
  ]
}